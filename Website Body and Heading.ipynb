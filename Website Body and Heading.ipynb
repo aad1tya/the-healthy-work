{
 "cells": [
  {
   "cell_type": "code",
   "execution_count": 1,
   "id": "a8731f3b",
   "metadata": {},
   "outputs": [
    {
     "name": "stderr",
     "output_type": "stream",
     "text": [
      "2023-01-22 00:05:34.270148: I tensorflow/core/platform/cpu_feature_guard.cc:193] This TensorFlow binary is optimized with oneAPI Deep Neural Network Library (oneDNN) to use the following CPU instructions in performance-critical operations:  AVX2 AVX512F AVX512_VNNI FMA\n",
      "To enable them in other operations, rebuild TensorFlow with the appropriate compiler flags.\n",
      "2023-01-22 00:05:34.527694: I tensorflow/core/util/util.cc:169] oneDNN custom operations are on. You may see slightly different numerical results due to floating-point round-off errors from different computation orders. To turn them off, set the environment variable `TF_ENABLE_ONEDNN_OPTS=0`.\n",
      "2023-01-22 00:05:34.546469: W tensorflow/stream_executor/platform/default/dso_loader.cc:64] Could not load dynamic library 'libcudart.so.11.0'; dlerror: libcudart.so.11.0: cannot open shared object file: No such file or directory\n",
      "2023-01-22 00:05:34.546536: I tensorflow/stream_executor/cuda/cudart_stub.cc:29] Ignore above cudart dlerror if you do not have a GPU set up on your machine.\n",
      "2023-01-22 00:05:34.654112: E tensorflow/stream_executor/cuda/cuda_blas.cc:2981] Unable to register cuBLAS factory: Attempting to register factory for plugin cuBLAS when one has already been registered\n",
      "2023-01-22 00:05:36.197263: W tensorflow/stream_executor/platform/default/dso_loader.cc:64] Could not load dynamic library 'libnvinfer.so.7'; dlerror: libnvinfer.so.7: cannot open shared object file: No such file or directory\n",
      "2023-01-22 00:05:36.197690: W tensorflow/stream_executor/platform/default/dso_loader.cc:64] Could not load dynamic library 'libnvinfer_plugin.so.7'; dlerror: libnvinfer_plugin.so.7: cannot open shared object file: No such file or directory\n",
      "2023-01-22 00:05:36.197737: W tensorflow/compiler/tf2tensorrt/utils/py_utils.cc:38] TF-TRT Warning: Cannot dlopen some TensorRT libraries. If you would like to use Nvidia GPU with TensorRT, please make sure the missing libraries mentioned above are installed properly.\n"
     ]
    }
   ],
   "source": [
    "import requests\n",
    "import urllib\n",
    "import pandas as pd\n",
    "from requests_html import HTML\n",
    "from requests_html import HTMLSession\n",
    "from bs4 import BeautifulSoup\n",
    "import html5lib\n",
    "from transformers import pipeline\n",
    "import tensorflow as tf"
   ]
  },
  {
   "cell_type": "code",
   "execution_count": 3,
   "id": "69a571b9",
   "metadata": {},
   "outputs": [],
   "source": [
    "def get_source(url):\n",
    "    \"\"\"Return the source code of the provided url.\n",
    "    \n",
    "    Args: \n",
    "        url (string): URL of the page to scrape.\n",
    "        \n",
    "    Returns:\n",
    "        response (object): HTTP response object from requests_html\n",
    "    \"\"\"  \n",
    "    \n",
    "    try:\n",
    "        session = HTMLSession()\n",
    "        response = session.get(url)\n",
    "        return response\n",
    "    \n",
    "    except requests.exceptions.RequestException as e:\n",
    "        print(e)"
   ]
  },
  {
   "cell_type": "code",
   "execution_count": 4,
   "id": "ae250d6f",
   "metadata": {},
   "outputs": [],
   "source": [
    "def scrape_google(query):\n",
    "    \n",
    "    query = urllib.parse.quote_plus(query)\n",
    "    response = get_source(\"https://www.google.com/search?q=\" + query)\n",
    "    response1 = get_source(\"https://www.google.com/search?q=\" + query + '&start=10')\n",
    "    \n",
    "    links = list(response.html.absolute_links)\n",
    "    links += list(response1.html.absolute_links)\n",
    "    google_domains = ('https://www.google.',\n",
    "                      'https://google.', \n",
    "                      'https://webcache.googleusercontent.', \n",
    "                      'http://webcache.googleusercontent.', \n",
    "                      'https://policies.google.',\n",
    "                      'https://support.google.',\n",
    "                      'https://maps.google.')\n",
    "    \n",
    "    for url in links[:]:\n",
    "        if url.startswith(google_domains):\n",
    "            links.remove(url)\n",
    "    \n",
    "    return links"
   ]
  },
  {
   "cell_type": "code",
   "execution_count": 5,
   "id": "f685e0ca",
   "metadata": {},
   "outputs": [],
   "source": [
    "links = scrape_google(\"make worklife healthier\")"
   ]
  },
  {
   "cell_type": "code",
   "execution_count": 12,
   "id": "f3edab3b",
   "metadata": {},
   "outputs": [],
   "source": [
    "def get_body(url):\n",
    "    r1 = requests.get(url)\n",
    "    coverpage = r1.content\n",
    "    soup1 = BeautifulSoup(coverpage, 'html.parser')\n",
    "    coverpage_data = soup1.find_all('p')\n",
    "    heading1 = soup1.find_all('h1')[0].get_text()\n",
    "    heading2 = soup1.find_all('h2')\n",
    "    heading2 = [heading2[i].get_text() for i in range(len(heading2))]\n",
    "    data = [coverpage_data[i].get_text() for i in range(len(coverpage_data))]\n",
    "    \n",
    "    if len(heading1) > 0:\n",
    "\n",
    "        headings = heading1 + \" \".join(heading2)\n",
    "    elif len(heading1) < 1:\n",
    "        headings = \" \".join(heading2)\n",
    "    else:\n",
    "        #Run the machine learning model here ML\n",
    "        pass\n",
    "    final_text = \" \".join(data)\n",
    "    final_text = final_text.replace('.', '.<eos>')\n",
    "    final_text = final_text.replace('?', '.<eos>')\n",
    "    final_text = final_text.replace('!', '.<eos>')\n",
    "    final_text = final_text.split('<eos>')\n",
    "    return [headings, final_text]"
   ]
  },
  {
   "cell_type": "code",
   "execution_count": 13,
   "id": "fdc38e1f",
   "metadata": {},
   "outputs": [],
   "source": [
    "def add_data_to_df(links):\n",
    "    all_headings_text = []\n",
    "    for i in links:\n",
    "        curr = get_body(i)\n",
    "        all_headings_text.append(curr)\n",
    "        \n",
    "    df = pd.DataFrame(all_headings_text, columns = ['Headings', 'Text'])\n",
    "    return df"
   ]
  },
  {
   "cell_type": "code",
   "execution_count": 14,
   "id": "3c294822",
   "metadata": {},
   "outputs": [],
   "source": [
    "df = add_data_to_df(links)"
   ]
  },
  {
   "cell_type": "code",
   "execution_count": 15,
   "id": "8c36f1f7",
   "metadata": {},
   "outputs": [
    {
     "data": {
      "text/html": [
       "<div>\n",
       "<style scoped>\n",
       "    .dataframe tbody tr th:only-of-type {\n",
       "        vertical-align: middle;\n",
       "    }\n",
       "\n",
       "    .dataframe tbody tr th {\n",
       "        vertical-align: top;\n",
       "    }\n",
       "\n",
       "    .dataframe thead th {\n",
       "        text-align: right;\n",
       "    }\n",
       "</style>\n",
       "<table border=\"1\" class=\"dataframe\">\n",
       "  <thead>\n",
       "    <tr style=\"text-align: right;\">\n",
       "      <th></th>\n",
       "      <th>Headings</th>\n",
       "      <th>Text</th>\n",
       "    </tr>\n",
       "  </thead>\n",
       "  <tbody>\n",
       "    <tr>\n",
       "      <th>0</th>\n",
       "      <td>25 Best Ways To Achieve Work-Life Balance and ...</td>\n",
       "      <td>[  Vantage Rewards   Vantage Pulse   Vantage P...</td>\n",
       "    </tr>\n",
       "    <tr>\n",
       "      <th>1</th>\n",
       "      <td>\\n\\t\\t\\t\\t\\t\\t\\t\\t15 tips to create a healthy ...</td>\n",
       "      <td>[This is having devastating consequences on ou...</td>\n",
       "    </tr>\n",
       "    <tr>\n",
       "      <th>2</th>\n",
       "      <td>The Importance of Work-Life BalanceWork-Life B...</td>\n",
       "      <td>[Work-life balance has been in the news a lot ...</td>\n",
       "    </tr>\n",
       "    <tr>\n",
       "      <th>3</th>\n",
       "      <td>How to have a good work-life balance (hint: it...</td>\n",
       "      <td>[Products Build leaders that accelerate team p...</td>\n",
       "    </tr>\n",
       "    <tr>\n",
       "      <th>4</th>\n",
       "      <td>\\nWork-life balance\\n\\nHeader menu Header menu...</td>\n",
       "      <td>[A healthy work-life balance will mean differe...</td>\n",
       "    </tr>\n",
       "    <tr>\n",
       "      <th>5</th>\n",
       "      <td>12 Steps to Finding Your Ideal Work-Life Balan...</td>\n",
       "      <td>[Thanks to remote work, super-smart tech, and ...</td>\n",
       "    </tr>\n",
       "    <tr>\n",
       "      <th>6</th>\n",
       "      <td>How to Improve Your Work-Life Balance TodayBal...</td>\n",
       "      <td>[Often, work takes precedence over everything ...</td>\n",
       "    </tr>\n",
       "    <tr>\n",
       "      <th>7</th>\n",
       "      <td>Try these 12 tips to improve your work-life ba...</td>\n",
       "      <td>[Products Build leaders that accelerate team p...</td>\n",
       "    </tr>\n",
       "    <tr>\n",
       "      <th>8</th>\n",
       "      <td>16 Best Tips To Maintain a Healthy Work-Life B...</td>\n",
       "      <td>[Today, quality of work-life balance is one of...</td>\n",
       "    </tr>\n",
       "    <tr>\n",
       "      <th>9</th>\n",
       "      <td>6 Tips For Better Work-Life Balance</td>\n",
       "      <td>[This article is part of a series on work-life...</td>\n",
       "    </tr>\n",
       "    <tr>\n",
       "      <th>10</th>\n",
       "      <td>37 Tips for a Better Work-Life BalanceManaging...</td>\n",
       "      <td>[It's so secret—managing all the things you ha...</td>\n",
       "    </tr>\n",
       "    <tr>\n",
       "      <th>11</th>\n",
       "      <td>Healthdirect Free Australian health advice you...</td>\n",
       "      <td>[Medical problem.,  Call 1800 022 222.,  If yo...</td>\n",
       "    </tr>\n",
       "    <tr>\n",
       "      <th>12</th>\n",
       "      <td>6 Easy Ways to Improve Your Work-Life BalanceR...</td>\n",
       "      <td>[We provide free services to help job seekers ...</td>\n",
       "    </tr>\n",
       "    <tr>\n",
       "      <th>13</th>\n",
       "      <td>Ten tips for a better work-life balance1. Step...</td>\n",
       "      <td>[If you’re happy working every hour God sends,...</td>\n",
       "    </tr>\n",
       "    <tr>\n",
       "      <th>14</th>\n",
       "      <td>\\n\\n            www.lifehack.org\\n        \\n  ...</td>\n",
       "      <td>[]</td>\n",
       "    </tr>\n",
       "    <tr>\n",
       "      <th>15</th>\n",
       "      <td>Access denied</td>\n",
       "      <td>[You do not have access to www., indeed., com....</td>\n",
       "    </tr>\n",
       "    <tr>\n",
       "      <th>16</th>\n",
       "      <td>Work Life BalanceTop Left Menu MHA Topbar Menu...</td>\n",
       "      <td>[With so many of us torn between juggling heav...</td>\n",
       "    </tr>\n",
       "    <tr>\n",
       "      <th>17</th>\n",
       "      <td>5 steps to start improving your work-life bala...</td>\n",
       "      <td>[Plenty of us will have faced situations in ou...</td>\n",
       "    </tr>\n",
       "    <tr>\n",
       "      <th>18</th>\n",
       "      <td>Work-Life Balance: What It Is and 5 Ways to Im...</td>\n",
       "      <td>[Learn more about balancing your work life and...</td>\n",
       "    </tr>\n",
       "    <tr>\n",
       "      <th>19</th>\n",
       "      <td>403 Forbidden</td>\n",
       "      <td>[]</td>\n",
       "    </tr>\n",
       "  </tbody>\n",
       "</table>\n",
       "</div>"
      ],
      "text/plain": [
       "                                             Headings  \\\n",
       "0   25 Best Ways To Achieve Work-Life Balance and ...   \n",
       "1   \\n\\t\\t\\t\\t\\t\\t\\t\\t15 tips to create a healthy ...   \n",
       "2   The Importance of Work-Life BalanceWork-Life B...   \n",
       "3   How to have a good work-life balance (hint: it...   \n",
       "4   \\nWork-life balance\\n\\nHeader menu Header menu...   \n",
       "5   12 Steps to Finding Your Ideal Work-Life Balan...   \n",
       "6   How to Improve Your Work-Life Balance TodayBal...   \n",
       "7   Try these 12 tips to improve your work-life ba...   \n",
       "8   16 Best Tips To Maintain a Healthy Work-Life B...   \n",
       "9                 6 Tips For Better Work-Life Balance   \n",
       "10  37 Tips for a Better Work-Life BalanceManaging...   \n",
       "11  Healthdirect Free Australian health advice you...   \n",
       "12  6 Easy Ways to Improve Your Work-Life BalanceR...   \n",
       "13  Ten tips for a better work-life balance1. Step...   \n",
       "14  \\n\\n            www.lifehack.org\\n        \\n  ...   \n",
       "15                                      Access denied   \n",
       "16  Work Life BalanceTop Left Menu MHA Topbar Menu...   \n",
       "17  5 steps to start improving your work-life bala...   \n",
       "18  Work-Life Balance: What It Is and 5 Ways to Im...   \n",
       "19                                      403 Forbidden   \n",
       "\n",
       "                                                 Text  \n",
       "0   [  Vantage Rewards   Vantage Pulse   Vantage P...  \n",
       "1   [This is having devastating consequences on ou...  \n",
       "2   [Work-life balance has been in the news a lot ...  \n",
       "3   [Products Build leaders that accelerate team p...  \n",
       "4   [A healthy work-life balance will mean differe...  \n",
       "5   [Thanks to remote work, super-smart tech, and ...  \n",
       "6   [Often, work takes precedence over everything ...  \n",
       "7   [Products Build leaders that accelerate team p...  \n",
       "8   [Today, quality of work-life balance is one of...  \n",
       "9   [This article is part of a series on work-life...  \n",
       "10  [It's so secret—managing all the things you ha...  \n",
       "11  [Medical problem.,  Call 1800 022 222.,  If yo...  \n",
       "12  [We provide free services to help job seekers ...  \n",
       "13  [If you’re happy working every hour God sends,...  \n",
       "14                                                 []  \n",
       "15  [You do not have access to www., indeed., com....  \n",
       "16  [With so many of us torn between juggling heav...  \n",
       "17  [Plenty of us will have faced situations in ou...  \n",
       "18  [Learn more about balancing your work life and...  \n",
       "19                                                 []  "
      ]
     },
     "execution_count": 15,
     "metadata": {},
     "output_type": "execute_result"
    }
   ],
   "source": [
    "df"
   ]
  },
  {
   "cell_type": "code",
   "execution_count": null,
   "id": "aa68821a",
   "metadata": {},
   "outputs": [],
   "source": []
  },
  {
   "cell_type": "code",
   "execution_count": 17,
   "id": "a5fd5165",
   "metadata": {},
   "outputs": [
    {
     "name": "stderr",
     "output_type": "stream",
     "text": [
      "No model was supplied, defaulted to t5-small and revision d769bba (https://huggingface.co/t5-small).\n",
      "Using a pipeline without specifying a model name and revision in production is not recommended.\n",
      "All model checkpoint layers were used when initializing TFT5ForConditionalGeneration.\n",
      "\n",
      "All the layers of TFT5ForConditionalGeneration were initialized from the model checkpoint at t5-small.\n",
      "If your task is similar to the task the model of the checkpoint was trained on, you can already use TFT5ForConditionalGeneration for predictions without further training.\n",
      "/home/a/.local/lib/python3.10/site-packages/transformers/models/t5/tokenization_t5_fast.py:155: FutureWarning: This tokenizer was incorrectly instantiated with a model max length of 512 which will be corrected in Transformers v5.\n",
      "For now, this behavior is kept to avoid breaking backwards compatibility when padding/encoding with `truncation is True`.\n",
      "- Be aware that you SHOULD NOT rely on t5-small automatically truncating your input to 512 when padding/encoding.\n",
      "- If you want to encode/pad to sequences longer than 512 you can either instantiate this tokenizer with `model_max_length` or pass `max_length` when encoding/padding.\n",
      "- To avoid this warning, please instantiate this tokenizer with `model_max_length` set to your preferred value.\n",
      "  warnings.warn(\n"
     ]
    }
   ],
   "source": [
    "summarizer = pipeline('summarization')"
   ]
  },
  {
   "cell_type": "code",
   "execution_count": 18,
   "id": "5b883b8d",
   "metadata": {},
   "outputs": [],
   "source": [
    "max_chunk = 500\n",
    "current_chunk = 0\n",
    "chunks = []\n",
    "\n"
   ]
  },
  {
   "cell_type": "code",
   "execution_count": 19,
   "id": "760b1539",
   "metadata": {},
   "outputs": [
    {
     "name": "stdout",
     "output_type": "stream",
     "text": [
      "0\n"
     ]
    }
   ],
   "source": [
    "for sentence in df['Text'][0]:\n",
    "    if len(chunks) == current_chunk + 1:\n",
    "        if len(chunks[current_chunk]) + len(sentence.split(' ')) <= max_chunk:\n",
    "            chunks[current_chunk].extend(sentence.split(' '))\n",
    "        else:\n",
    "            current_chunk += 1\n",
    "            chunks.append(sentence.split(' '))\n",
    "    else:\n",
    "        print(current_chunk)\n",
    "        chunks.append(sentence.split(' '))"
   ]
  },
  {
   "cell_type": "code",
   "execution_count": 21,
   "id": "01c94cbc",
   "metadata": {},
   "outputs": [],
   "source": [
    "for chunk_id in range(len(chunks)):\n",
    "    chunks[chunk_id] = ' '.join(chunks[chunk_id])"
   ]
  },
  {
   "cell_type": "code",
   "execution_count": 22,
   "id": "c30f2cd4",
   "metadata": {},
   "outputs": [
    {
     "data": {
      "text/plain": [
       "['\\xa0\\xa0Vantage Rewards \\xa0\\xa0Vantage Pulse \\xa0\\xa0Vantage Perks \\xa0\\xa0Vantage Fit \\xa0\\xa0 Blog \\xa0\\xa0Influencers Podcast \\xa0\\xa0Guides & eBooks \\xa0\\xa0Webinars \\xa0\\xa0Vantage Rewards \\xa0\\xa0Vantage Pulse \\xa0\\xa0Vantage Perks \\xa0\\xa0Vantage Fit \\xa0\\xa0 Blog \\xa0\\xa0Vantage Rewards \\xa0\\xa0Vantage Pulse \\xa0\\xa0Vantage Perks \\xa0\\xa0Vantage Fit \\xa0\\xa0 Blog \\xa0\\xa0Vantage Rewards \\xa0\\xa0Vantage Pulse \\xa0\\xa0Vantage Perks \\xa0\\xa0Vantage Fit \\xa0\\xa0 Blog \\xa0\\xa0Vantage Rewards \\xa0\\xa0Vantage Pulse \\xa0\\xa0Vantage Perks \\xa0\\xa0Vantage Fit \\xa0\\xa0 Blog \\xa0\\xa0Vantage Rewards \\xa0\\xa0Vantage Pulse \\xa0\\xa0Vantage Perks \\xa0\\xa0Vantage Fit \\xa0\\xa0 Blogue Balance, a term that associates with almost everything that we do knowingly or unknowingly.  Today’s work culture revolves around the concept of balance to a great extent.  Here, the balance I’ll be talking about is the one between work and life.  Times are hectic, humans are more engaged, and achieving a perfect work-life balance seems like a far-fetched dream.  The work schedule now is not only confined to usual office hours.  Earlier, when most of the work was manual, getting some free time away from work was not that hard.  Professionals were able to relax and take care of other priorities.  But with the amalgamation of the tech and IT revolution, the entire scenario changed.  Accessing resources is no longer a concern, and work emails may come knocking anytime.  And because of this employees are now spending longer hours at work than ever before.  Which is hindering the quality of work-life.  This is something that any HR leader or employer shouldn’t ignore in the long run.  “Balance is not better time management, but better boundary management.  Balance means making choices and enjoying those choices. ” – Betsy Jacobson.  One may view work-life balance as the approach to maintain an equal number of hours between work and play.  But it’s not.  Having a well-balanced work-life is not only about coming to and returning from working on time.  In a broader perspective, it’s about prioritizing things as per their importance.  Prioritizing things helps one save both their time and energy.  Thus, allowing them to set a perfect balance between their work and personal life.  Talking about its impact, work-life balance is imperative for employees, but it also affects the organization.  Employees who can put equal importance on their well-being are undoubtedly happier and more satisfied.  And this does reflect in their performance and behavior at work.  Sumi Borah, Senior Manager of People & Culture at The Better India, explains why work-life balance is so important to the employee experience.  Employees deliver the best when they are happy and comfortable at work.  Flexible timings play a huge role when it comes to employees’ mental health.  In today’s time, freedom to choose work hours creates a positive impact on employees that their employer has an understanding attitude and values one’s time.  This practice has been a great success in recruiting candidates.  The mantra is to prioritize employees, and the employees will prioritize you.',\n",
       " \" Further, the employees who enjoy a great work-life balance are also the potential advocates of their respective organizations.  And this sets a pretty good reason for enterprises to rephrase their company culture to promote work-life balance.  The positive side of it doesn’t just end there.  Here are a few points that further reflects why organizations must take note of it like: An ounce of prevention is worth a pound of cure.  As an employer, you have a significant role to play to ensure your employees aren’t trapped in the work-life balance feud.  Similarly, to encourage a good work-life balance, you can take up several measures.   Taking time off in between work helps in dealing with stress.  The human body is not designed to endure for long hours at a go.  Physical movements like a light walk or some desk exercises can be really helpful here.  Such short breaks will help you recover from fatigue and enhance agility at work.  Volunteering is a great way to stay social and build interpersonal connections.  Encouraging the employees to volunteer for social causes helps them de-stress and commit socially.  Moreover, this also helps boosts a company’s CSR, i. e. , Company Social Responsibility initiatives.  Thus, earning goodwill for the organization and its employees.  Planning the day-to-day activities at work is another way for managing a good balance between life and work.  It helps individuals to prioritize their actions following the importance of a task.  Moreover, adhering to a well-laid plan also helps save a lot of time at work.  Thus, allowing them to focus on things other than work or take it to rejuvenate themselves.   Maintaining a healthy lifestyle plays a big role in an employee’s quest to achieve a healthy work-life balance.  Healthy employees are like the jewels on the crown for every organization.  An unhealthy work-life balance disrupts the employees' physical and mental health.  Considering this fact, it hampers their productivity to a great extent.  Encouraging the employees to take up a healthy lifestyle eliminates various health risks.  Just like having good physical health helps one to stay energetic, a stress-free mind is a room full of clarity.  This helps the employees to excel both in their careers and in life.  A healthy lifestyle is also a great stress management solution and helps the employees cope with stress smoothly.  Most often, the employees carry their work home to make up for the deadlines.  The inability to leave work at the workplace is a major issue resulting from the excess workload born by the employees.  Committing to work during off-hours hinders the amount of rest needed by the human body.  Further, it maligns the social life of individuals that is necessary for a healthy mindset.\",\n",
       " \" Employers can make sure that this doesn't happen by adopting a strict “No Work at Home” policy.  Maintaining a good balance between work and life isn’t possible if there’s no personal time left after leaving work.  In such a case, having a flexible work schedule becomes very important.  Flexibility in work timings helps the employees lay equal focus on their own personal and social side of life like that of their work.  Further, such a schedule can positively affect an individual's performance at work.  As well, it works as an alternate stress management technique.   Time management is a very important aspect when it comes to having a proper work-life balance.  Most individuals tend to ignore this phase.  As a result, they end up getting overwhelmed by work at the end of the day with no time for themselves.  So, one must make sure they have a proper routine in place for the day.  Adopting time management hacks like the Pomodoro technique would be helpful in this regard.  Every one of us has a hobby like reading, painting, photography, dancing, collecting old stamps and so on.  A good work-life balance is not only limited to giving importance to work and family.  It’s also about giving importance to the things that one loves doing on a personal level.  With all the hues and cries between managing work and family, we often miss feeding our own hopes and aspirations.  Having a hobby encourages an employee to take up some time for themselves.  This indeed helps them fulfill the thirst for a good life according to an employee’s preference.  Having a hobby helps the employees to make up time for themselves even amidst their tight schedule.  Encouraging work from home at least once a week or whenever required could help detox from the daily stress at the workplace.  Working from home with the loved ones nearby or pampering the pets while working leaves a positive impact on an employee’s mind.  When employees have such benefits, it frames a great sense of gratitude in their minds towards their employers.  It also makes them the advocates for your organization.  Thus, giving the boost to a great employee and employer relationship.   In today’s time, vacation is no longer a luxury.  Rather it’s more of a necessity.  It’s high time employers realize how vacations from work have become an important part of today’s work culture.  Letting the employees take long breaks without sacrificing their wages is very effective.  Employees feel more rejuvenated and relaxed after returning to work, yielding better productivity.  Time-to-time assessment of the employees is an essential part of creating a healthy work environment.  Situations may differ with changing times, and keeping track of these changes becomes very important in order to put effective solutions in place.\",\n",
       " \" These enable the employers to fix problems that may act as blockades towards achieving a healthy work-life balance.  Taking feedback and conducting surveys from the employees further helps organizations to know them better and work on the issues raised.  The joy of being a parent can never be ignored, and every one of us is entitled to enjoy this moment.  However, this joy comes with several responsibilities that no one is immune to, and this could create a hindrance when it comes to work-life.  So, to mitigate this issue, you can plan to introduce maternity and paternity leave schemes for all your employees.  This benefits your employees directly, but it will also enhance your brand image to a great extent.   Most parents whose children are below at least five years of age face a tough time juggling between responsibilities.  This becomes even more difficult when both parents are professionals, and they have to choose between work or life.  And this could severely affect their career, sometimes not allowing them to progress ahead.  Here, as a responsible employer, you may never want this to happen to your employees, for which you can plan on arranging child care facilities within the organization or somewhere that’s really close.  The ability to work from anywhere is a dream of every professional.  It isn’t like they will be traveling all the time but because they get to choose their own place for working properly.  This facility would help attract the best talents on board.  Moreover, it’ll allow all to fulfill their social commitments without missing out on work.  Related: Remote Workers Could Be Your Biggest Asset.  Here's How.  Pet-friendly workspaces are booming all over the world as millennials and Gen z’s are joining the workforce.  These generations of employees are full of life and love for their pets.  Allowing your employees to bring their pets along will give them mental peace and create a cheerful atmosphere around the workplace.  Recommended Read: 22 Fantastic Work Rules For Happy Life  Team-building is about getting people to work together to reach a common goal.  It can be an incredibly effective way of improving relationships.  However, many people don't realize that team building can be beneficial for work-life balance as well.  Remote teams are the norm today, and communication and collaboration are a must.  One of the best ways to build a better work-life balance is to plan activities that bring your team together enjoyably.  While getting everyone together might not be possible, you can often design exercises or events that bring some team members together.  Life is unpredictable.  There may come a time when you want to offer your employees unpaid time off to handle personal issues.  It can be a family emergency, personal tragedy, or other illnesses.\",\n",
       " ' In the United States, the Family and Medical Leave Act of 1993 (FMLA) grants eligible employees up to 12 weeks of unpaid, job-protected leave per year.  They may take this leave for the birth or adoption of a child or care for a family member with a serious health condition.  FMLA also requires that they give all employees their job back or an equivalent position at the end of their leave, with the same benefits, pay, etc.  Incorporating a designated quiet space at your workplace can keep your team productive, happy, and healthy.  Employees can use the spot to reflect, meditate or even just take a break from the bustle of the office.  A quiet space should be a place where employees can take a moment to collect their thoughts, focus, and get work done.  Make sure that the room is inviting and well-kept.  It should have comfortable seating, plenty of greenery, and a few good books or magazines.  You can even play some music to create a relaxing atmosphere.  It isn\\'t easy to maintain an active lifestyle or find time to visit the gym with a busy schedule.  A gym at the office would help not only your employees\\' physical health but also their mental health and work-life balance.  It is also a great employee incentive program for employees to lead healthier lifestyles.  Standing desks and treadmill desks are also making the rounds in office design.  Also Read: 10 Awesome Lifestyle Choices For Employees To Elevate Their Work-Life  Google is a great example of a business that encourages its employees\\' creativity.  Google\\'s 80/20 rule (or \"Innovative Time Off\") allows engineers to spend one day or 20% of their workweek.  It can be on any project they choose, as long as it relates to their current job.  Even if you don\\'t have the resources to implement a similar policy, you can still foster creativity.  If your employees are interested in pursuing a certain project, look into ways of giving them time for that outside of working hours.  Instead of having one employee responsible for planning team-building activities, give the responsibility to the entire team.  If you give your employees some freedom to lead their own events, you\\'ll find that they are happier, more productive, and have more fun at work.  It can be a year-end company party or a quarterly office pizza party.  Letting everyone get involved will not only let you have an abundance of creative ideas but also let them take ownership of the event.  Workations are the latest craze in the quest for work-life balance after the pandemic.  Workation is the act of combining work and vacation.  It gives employees the flexibility to work remotely and allows them to return refreshed and ready for action.  When a workation is planned out properly, you will get results better.',\n",
       " \" It is also great for ensuring that your employees are happy and well-rested and can be a great morale-booster for your company.  Achieving the right balance between work and personal life is a constant struggle.  An EAP or Employee Assistance Program gives employees, and their immediate family members access to trained professionals.  These experts can help them confront problems such as substance abuse, work-related stress, financial hardship, relationship issues, and more.  A hybrid workspace is the best of both worlds for working at home and in an office.  They are a great solution for people who want some of the perks of working from home, but also miss their office setting.  When employees have such benefits, it frames a great sense of gratitude in their minds towards their employers.  It also makes them advocates for your organization.  Thus, giving the boost to an exceptional employee and employer relationship.  Also Read: Hybrid Workplace: Is it the New Future.   There is no universal approach for creating a work-life balance.  Each employee is different, and the design of their experiences needs to be tailored to them.  Some love working late and logging long hours at the office.  Others don't mind starting early, but they're eager to leave as soon as possible.  The best way to balance work and life is to put your employees and their preferences first.   The importance of a good work-life balance can also be determined by the fact that it yields: “Employees working three or more hours longer than the work schedule had a 60% higher risk of experiencing heart-related problems”, as found in a study by UCL.  As humans, we have a specific limit of endurance.  For employees who are already under a lot of pressure, overwork can prove fatal both for their mental and physical health.  If these issues aren’t checked on time, then it could give rise to various chronic illnesses too.  And all of these directly affect their productivity and decision-making skills at work.  So, you must go ahead and encourage your employees to take measures for ensuring a healthy work-life balance.  Thereby, helping them cope with stress and reduce the risk of various diseases.  Employees working under work pressure are prone to mental ailments like workplace stress and anxiety.  It is a known fact that demotivated employees tend to lose their focus at work which hampers their productivity.  As a result, organizations too suffer from the challenges of an unproductive workforce.  A healthy balance between work-life eliminates this issue to a great extent.  When employees feel relaxed and satisfied at their work, they develop a better focus on their work.  It also helps them gain more control over their work, thereby delivering the best results.\",\n",
       " \" For an employer having people focused on their work is the perfect key to unlock better productivity and achieve the desired goals.  Motivated employees are the real gems of any organization.  It is their contributions that drive their respective companies to success.  But very often, poor work-life balance creates a barrier for them to engage themselves at work altogether.  Absenteeism, fatigue, sick leaves are some of the problems hindering employee engagement at work.  Encouraging employees to achieve a good balance between work and life will help improve the company’s overall work culture.  Having better employee engagement also helps the companies to attract the top talents.  Thus, emphasizing the need for a healthy work-life balance.  Increasing work pressure is one of the major problems for employees these days to quit their jobs.  Overworked employees are the ones who are the worst affected.  Also, employees who are under the pressure of meeting deadlines get exhausted both physically and mentally.  As an employer, you may know well how extreme workload hampers the employees.  Taking measures for stress management for establishing a well-balanced work-life is the best way to ease the workload.  Recommended Read: Ultimate Work-Life Balance Quotes You Must Read Right Now “Don’t confuse having a career with having a life. ” – Hillary Clinton.  Most often, people think of having a good career as having a good life.  But it may not always be the same way.  One may face different situations that could disrupt the usual schedule.  With this, the chance to spend some quality time after long hours at work might cede.  Thus, resulting in a poor work-life balance.  Maintaining this balance isn't that hard if you set your things based on priority.  Along with good work-life balance, one needs to think of a better work-life integration as well.  It sets the tone of healthy balance in your professional life.  And to help you with that, I have listed the few points above which if you wish to follow can yield positive results with regards to work-life balance.  Please feel free to drop us a mail and let us know if you have any more ideas we may have overlooked.  This article is co-authored by Angshuman and Thadoi, who are digital marketers at Vantage Circle.  Got any question.  Drop a mail at editor@vantagecircle. com We safeguard your personal information in accordance with our Privacy Policy \\n5k+ Downloads\\n                          by HR professionals across the globe. \\n                        \"]"
      ]
     },
     "execution_count": 22,
     "metadata": {},
     "output_type": "execute_result"
    }
   ],
   "source": [
    "chunks"
   ]
  },
  {
   "cell_type": "code",
   "execution_count": 23,
   "id": "dd4e3f1e",
   "metadata": {},
   "outputs": [
    {
     "name": "stderr",
     "output_type": "stream",
     "text": [
      "Token indices sequence length is longer than the specified maximum sequence length for this model (653 > 512). Running this sequence through the model will result in indexing errors\n",
      "2023-01-22 11:16:57.747268: I tensorflow/compiler/xla/service/service.cc:173] XLA service 0x556ee74db730 initialized for platform Host (this does not guarantee that XLA will be used). Devices:\n",
      "2023-01-22 11:16:57.747492: I tensorflow/compiler/xla/service/service.cc:181]   StreamExecutor device (0): Host, Default Version\n",
      "2023-01-22 11:16:57.868418: I tensorflow/compiler/mlir/tensorflow/utils/dump_mlir_util.cc:268] disabling MLIR crash reproducer, set env var `MLIR_CRASH_REPRODUCER_DIRECTORY` to enable.\n",
      "2023-01-22 11:16:58.280720: I tensorflow/compiler/jit/xla_compilation_cache.cc:476] Compiled cluster using XLA!  This line is logged at most once for the lifetime of the process.\n"
     ]
    }
   ],
   "source": [
    "res = summarizer(chunks, max_length = 120, min_length=30, do_sample = False)"
   ]
  },
  {
   "cell_type": "code",
   "execution_count": 24,
   "id": "bba9000f",
   "metadata": {},
   "outputs": [
    {
     "data": {
      "text/plain": [
       "[{'summary_text': 'work culture revolves around the concept of balance to a great extent . achieving a perfect work-life balance seems like a far-fetched dream . balance is not only about coming to and returning from working on time .'},\n",
       " {'summary_text': \"an unhealthy work-life balance disrupts the employees' physical and mental health . a healthy lifestyle is also a great stress management solution and helps the employees cope with stress smoothly .\"},\n",
       " {'summary_text': \"a good balance between work and life isn't possible if there's no personal time left after leaving work . a flexible work schedule helps the employees lay equal focus on their own personal and social side of life like that of their work, and it works as an alternate stress management technique . one must make sure they have a proper routine in place for the day .\"},\n",
       " {'summary_text': 'remote workers are booming all over the world as millennials and Gen z’s are joining the workforce . it can be an incredibly effective way of improving relationships, but communication and collaboration are a must . you can plan activities that bring your team together enjoyably .'},\n",
       " {'summary_text': 'in the united states, the family and medical leave act of 1993 grants eligible employees up to 12 weeks of unpaid, job-protected leave per year . employees may take this leave for the birth or adoption of a child or care for a family member with a serious health condition . a quiet space should be a place where employees can take a moment to collect their thoughts, focus, and get work done .'},\n",
       " {'summary_text': 'a hybrid workspace is the best of both worlds for working at home and in an office . it frames a great sense of gratitude in their minds towards their employers . the best way to balance work and life is to put your employees and their preferences first .'},\n",
       " {'summary_text': 'employees are the real gems of any organization . but poor work-life balance creates a barrier for them to engage themselves at work altogether . increasing work pressure is one of the major problems for employees these days to quit their jobs . reducing stress is the best way to ease the workload .'}]"
      ]
     },
     "execution_count": 24,
     "metadata": {},
     "output_type": "execute_result"
    }
   ],
   "source": [
    "res"
   ]
  },
  {
   "cell_type": "code",
   "execution_count": null,
   "id": "6cfd072d",
   "metadata": {},
   "outputs": [],
   "source": []
  }
 ],
 "metadata": {
  "kernelspec": {
   "display_name": "Python 3",
   "language": "python",
   "name": "python3"
  },
  "language_info": {
   "codemirror_mode": {
    "name": "ipython",
    "version": 3
   },
   "file_extension": ".py",
   "mimetype": "text/x-python",
   "name": "python",
   "nbconvert_exporter": "python",
   "pygments_lexer": "ipython3",
   "version": "3.10.6"
  },
  "vscode": {
   "interpreter": {
    "hash": "31f2aee4e71d21fbe5cf8b01ff0e069b9275f58929596ceb00d14d90e3e16cd6"
   }
  }
 },
 "nbformat": 4,
 "nbformat_minor": 5
}
