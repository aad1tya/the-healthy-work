{
 "cells": [
  {
   "cell_type": "code",
   "execution_count": 19,
   "id": "a8731f3b",
   "metadata": {},
   "outputs": [],
   "source": [
    "import requests\n",
    "import urllib\n",
    "import pandas as pd\n",
    "from requests_html import HTML\n",
    "from requests_html import HTMLSession\n",
    "from bs4 import BeautifulSoup\n",
    "import html5lib"
   ]
  },
  {
   "cell_type": "code",
   "execution_count": 20,
   "id": "69a571b9",
   "metadata": {},
   "outputs": [],
   "source": [
    "def get_source(url):\n",
    "    \"\"\"Return the source code of the provided url.\n",
    "    \n",
    "    Args: \n",
    "        url (string): URL of the page to scrape.\n",
    "        \n",
    "    Returns:\n",
    "        response (object): HTTP response object from requests_html\n",
    "    \"\"\"  \n",
    "    \n",
    "    try:\n",
    "        session = HTMLSession()\n",
    "        response = session.get(url)\n",
    "        return response\n",
    "    \n",
    "    except requests.exceptions.RequestException as e:\n",
    "        print(e)"
   ]
  },
  {
   "cell_type": "code",
   "execution_count": 21,
   "id": "ae250d6f",
   "metadata": {},
   "outputs": [],
   "source": [
    "def scrape_google(query):\n",
    "    \n",
    "    query = urllib.parse.quote_plus(query)\n",
    "    response = get_source(\"https://www.google.com/search?q=\" + query)\n",
    "    response1 = get_source(\"https://www.google.com/search?q=\" + query + '&start=10')\n",
    "    \n",
    "    links = list(response.html.absolute_links)\n",
    "    links += list(response1.html.absolute_links)\n",
    "    google_domains = ('https://www.google.',\n",
    "                      'https://google.', \n",
    "                      'https://webcache.googleusercontent.', \n",
    "                      'http://webcache.googleusercontent.', \n",
    "                      'https://policies.google.',\n",
    "                      'https://support.google.',\n",
    "                      'https://maps.google.')\n",
    "    \n",
    "    for url in links[:]:\n",
    "        if url.startswith(google_domains):\n",
    "            links.remove(url)\n",
    "    \n",
    "    return links"
   ]
  },
  {
   "cell_type": "code",
   "execution_count": 34,
   "id": "f685e0ca",
   "metadata": {},
   "outputs": [],
   "source": [
    "links = scrape_google(\"make worklife healthier\")"
   ]
  },
  {
   "cell_type": "code",
   "execution_count": 63,
   "id": "f3edab3b",
   "metadata": {},
   "outputs": [],
   "source": [
    "def get_body(url):\n",
    "    r1 = requests.get(url)\n",
    "    coverpage = r1.content\n",
    "    soup1 = BeautifulSoup(coverpage, 'html.parser')\n",
    "    coverpage_data = soup1.find_all('p')\n",
    "    heading1 = soup1.find_all('h1')[0].get_text()\n",
    "    heading2 = soup1.find_all('h2')\n",
    "    heading2 = [heading2[i].get_text() for i in range(len(heading2))]\n",
    "    data = [coverpage_data[i].get_text() for i in range(len(coverpage_data))]\n",
    "    \n",
    "    if len(heading1) > 0:\n",
    "\n",
    "        headings = heading1 + \" \".join(heading2)\n",
    "    elif len(heading1) < 1:\n",
    "        headings = \" \".join(heading2)\n",
    "    else:\n",
    "        #Run the machine learning model here ML\n",
    "        pass\n",
    "    final_text = \" \".join(data)\n",
    "    return [headings, final_text]"
   ]
  },
  {
   "cell_type": "code",
   "execution_count": 95,
   "id": "fdc38e1f",
   "metadata": {},
   "outputs": [],
   "source": [
    "def add_data_to_df(links):\n",
    "    all_headings_text = []\n",
    "    for i in links:\n",
    "        curr = get_body(i)\n",
    "        all_headings_text.append(curr)\n",
    "        \n",
    "    df = pd.DataFrame(all_headings_text, columns = ['Headings', 'Text'])\n",
    "    return df"
   ]
  },
  {
   "cell_type": "code",
   "execution_count": 96,
   "id": "3c294822",
   "metadata": {},
   "outputs": [],
   "source": [
    "df = add_data_to_df(links)"
   ]
  },
  {
   "cell_type": "code",
   "execution_count": null,
   "id": "8c36f1f7",
   "metadata": {},
   "outputs": [],
   "source": []
  }
 ],
 "metadata": {
  "kernelspec": {
   "display_name": "the-healthy-work",
   "language": "python",
   "name": "python3"
  },
  "language_info": {
   "codemirror_mode": {
    "name": "ipython",
    "version": 3
   },
   "file_extension": ".py",
   "mimetype": "text/x-python",
   "name": "python",
   "nbconvert_exporter": "python",
   "pygments_lexer": "ipython3",
   "version": "3.11.0"
  },
  "vscode": {
   "interpreter": {
    "hash": "5fcbfe11cd5971c56b677ef2a5cb6384acfc332bd42e564f2ce14aa4fd76ba52"
   }
  }
 },
 "nbformat": 4,
 "nbformat_minor": 5
}
