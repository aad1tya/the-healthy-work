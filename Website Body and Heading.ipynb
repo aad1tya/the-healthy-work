{
 "cells": [
  {
   "cell_type": "code",
   "execution_count": 3,
   "id": "05a6c8e9",
   "metadata": {},
   "outputs": [],
   "source": [
    "import requests\n",
    "import urllib\n",
    "import pandas as pd\n",
    "from requests_html import HTML\n",
    "from requests_html import HTMLSession"
   ]
  },
  {
   "cell_type": "code",
   "execution_count": 5,
   "id": "376e0039",
   "metadata": {},
   "outputs": [],
   "source": [
    "def get_source(url):\n",
    "    \"\"\"Return the source code of the provided url.\n",
    "    \n",
    "    Args: \n",
    "        url (string): URL of the page to scrape.\n",
    "        \n",
    "    Returns:\n",
    "        response (object): HTTP response object from requests_html\n",
    "    \"\"\"  \n",
    "    \n",
    "    try:\n",
    "        session = HTMLSession()\n",
    "        response = session.get(url)\n",
    "        return response\n",
    "    \n",
    "    except requests.exceptions.RequestException as e:\n",
    "        print(e)"
   ]
  },
  {
   "cell_type": "code",
   "execution_count": 9,
   "id": "04c923bc",
   "metadata": {},
   "outputs": [],
   "source": [
    "def scrape_google(query):\n",
    "    \n",
    "    query = urllib.parse.quote_plus(query)\n",
    "    response = get_source(\"https://www.google.com/search?q=\" + query)\n",
    "    response1 = get_source(\"https://www.google.com/search?q=\" + query + '&start=10')\n",
    "    \n",
    "    links = list(response.html.absolute_links)\n",
    "    links += list(response1.html.absolute_links)\n",
    "    google_domains = ('https://www.google.',\n",
    "                      'https://google.', \n",
    "                      'https://webcache.googleusercontent.', \n",
    "                      'http://webcache.googleusercontent.', \n",
    "                      'https://policies.google.',\n",
    "                      'https://support.google.',\n",
    "                      'https://maps.google.')\n",
    "    \n",
    "    for url in links[:]:\n",
    "        if url.startswith(google_domains):\n",
    "            links.remove(url)\n",
    "    \n",
    "    return links"
   ]
  },
  {
   "cell_type": "code",
   "execution_count": 10,
   "id": "41f4826d",
   "metadata": {},
   "outputs": [
    {
     "data": {
      "text/plain": [
       "['https://www.naukri.com/blog/16-ways-to-maintain-work-life-balance/',\n",
       " 'https://www.businessnewsdaily.com/5244-improve-work-life-balance-today.html',\n",
       " 'https://www.betterup.com/blog/how-to-have-good-work-life-balance',\n",
       " 'https://www.themuse.com/advice/37-tips-for-a-better-worklife-balance',\n",
       " 'https://thehappinessindex.com/blog/importance-work-life-balance',\n",
       " 'https://blog.vantagecircle.com/work-life-balance/',\n",
       " 'https://www.betterup.com/blog/work-life-balance',\n",
       " 'https://www.forbes.com/sites/deborahlee/2014/10/20/6-tips-for-better-work-life-balance/',\n",
       " 'https://www.healthline.com/health/mental-health/work-life-balance',\n",
       " 'https://health.clevelandclinic.org/work-life-balance/',\n",
       " 'https://novoresume.com/career-blog/work-life-balance',\n",
       " 'https://www.seek.com.au/career-advice/article/5-steps-to-start-improving-your-work-life-balance',\n",
       " 'https://www.thepalmergroup.com/resources/blog/6-easy-ways-to-improve-your-work-life-balance',\n",
       " 'https://www.zenefits.com/workest/work-life-balance-tips/',\n",
       " 'https://www.indeed.com/career-advice/career-development/healthy-work-life-balance',\n",
       " 'https://www.lifehack.org/734028/work-life-balance-tips',\n",
       " 'https://www.kantata.com/blog/article/13-tips-tricks-to-maintain-a-healthy-work-life-balance',\n",
       " 'https://www.wikijob.co.uk/features/useful-resources/work-life-balance',\n",
       " 'https://www.lifehack.org/397862/10-ways-to-help-your-employees-have-a-healthy-work-life-balance',\n",
       " 'https://www.theguardian.com/lifeandstyle/2014/nov/07/ten-tips-for-a-better-work-life-balance']"
      ]
     },
     "execution_count": 10,
     "metadata": {},
     "output_type": "execute_result"
    }
   ],
   "source": [
    "scrape_google(\"make worklife healthier\")"
   ]
  },
  {
   "cell_type": "code",
   "execution_count": null,
   "id": "a00cc54f",
   "metadata": {},
   "outputs": [],
   "source": []
  }
 ],
 "metadata": {
  "kernelspec": {
   "display_name": "Python 3 (ipykernel)",
   "language": "python",
   "name": "python3"
  },
  "language_info": {
   "codemirror_mode": {
    "name": "ipython",
    "version": 3
   },
   "file_extension": ".py",
   "mimetype": "text/x-python",
   "name": "python",
   "nbconvert_exporter": "python",
   "pygments_lexer": "ipython3",
   "version": "3.11.0"
  }
 },
 "nbformat": 4,
 "nbformat_minor": 5
}
