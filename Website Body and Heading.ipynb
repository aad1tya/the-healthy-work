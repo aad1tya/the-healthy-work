{
 "cells": [
  {
   "cell_type": "code",
   "execution_count": 30,
   "id": "a8731f3b",
   "metadata": {},
   "outputs": [],
   "source": [
    "import requests\n",
    "import urllib\n",
    "import pandas as pd\n",
    "from requests_html import HTML\n",
    "from requests_html import HTMLSession\n",
    "from bs4 import BeautifulSoup\n",
    "import html5lib\n",
    "from transformers import pipeline\n",
    "import tensorflow as tf"
   ]
  },
  {
   "cell_type": "code",
   "execution_count": 3,
   "id": "69a571b9",
   "metadata": {},
   "outputs": [],
   "source": [
    "def get_source(url):\n",
    "    \"\"\"Return the source code of the provided url.\n",
    "    \n",
    "    Args: \n",
    "        url (string): URL of the page to scrape.\n",
    "        \n",
    "    Returns:\n",
    "        response (object): HTTP response object from requests_html\n",
    "    \"\"\"  \n",
    "    \n",
    "    try:\n",
    "        session = HTMLSession()\n",
    "        response = session.get(url)\n",
    "        return response\n",
    "    \n",
    "    except requests.exceptions.RequestException as e:\n",
    "        print(e)"
   ]
  },
  {
   "cell_type": "code",
   "execution_count": 4,
   "id": "ae250d6f",
   "metadata": {},
   "outputs": [],
   "source": [
    "def scrape_google(query):\n",
    "    \n",
    "    query = urllib.parse.quote_plus(query)\n",
    "    response = get_source(\"https://www.google.com/search?q=\" + query)\n",
    "    response1 = get_source(\"https://www.google.com/search?q=\" + query + '&start=10')\n",
    "    \n",
    "    links = list(response.html.absolute_links)\n",
    "    links += list(response1.html.absolute_links)\n",
    "    google_domains = ('https://www.google.',\n",
    "                      'https://google.', \n",
    "                      'https://webcache.googleusercontent.', \n",
    "                      'http://webcache.googleusercontent.', \n",
    "                      'https://policies.google.',\n",
    "                      'https://support.google.',\n",
    "                      'https://maps.google.')\n",
    "    \n",
    "    for url in links[:]:\n",
    "        if url.startswith(google_domains):\n",
    "            links.remove(url)\n",
    "    \n",
    "    return links"
   ]
  },
  {
   "cell_type": "code",
   "execution_count": 5,
   "id": "f685e0ca",
   "metadata": {},
   "outputs": [],
   "source": [
    "links = scrape_google(\"make worklife healthier\")"
   ]
  },
  {
   "cell_type": "code",
   "execution_count": 15,
   "id": "f3edab3b",
   "metadata": {},
   "outputs": [],
   "source": [
    "def get_body(url):\n",
    "    r1 = requests.get(url)\n",
    "    coverpage = r1.content\n",
    "    soup1 = BeautifulSoup(coverpage, 'html.parser')\n",
    "    coverpage_data = soup1.find_all('p')\n",
    "    heading1 = soup1.find_all('h1')[0].get_text()\n",
    "    heading2 = soup1.find_all('h2')\n",
    "    heading2 = [heading2[i].get_text() for i in range(len(heading2))]\n",
    "    data = [coverpage_data[i].get_text() for i in range(len(coverpage_data))]\n",
    "    \n",
    "    if len(heading1) > 0:\n",
    "\n",
    "        headings = heading1 + \" \".join(heading2)\n",
    "    elif len(heading1) < 1:\n",
    "        headings = \" \".join(heading2)\n",
    "    else:\n",
    "        #Run the machine learning model here ML\n",
    "        pass\n",
    "    final_text = \" \".join(data)\n",
    "    final_text = final_text.replace('.', '.<eos>')\n",
    "    final_text = final_text.replace('?', '.<eos>')\n",
    "    final_text = final_text.replace('!', '.<eos>')\n",
    "    final_text = final_text.split('<eos>')\n",
    "    return [headings, final_text]"
   ]
  },
  {
   "cell_type": "code",
   "execution_count": 16,
   "id": "fdc38e1f",
   "metadata": {},
   "outputs": [],
   "source": [
    "def add_data_to_df(links):\n",
    "    all_headings_text = []\n",
    "    for i in links:\n",
    "        curr = get_body(i)\n",
    "        all_headings_text.append(curr)\n",
    "        \n",
    "    df = pd.DataFrame(all_headings_text, columns = ['Headings', 'Text'])\n",
    "    return df"
   ]
  },
  {
   "cell_type": "code",
   "execution_count": 17,
   "id": "3c294822",
   "metadata": {},
   "outputs": [],
   "source": [
    "df = add_data_to_df(links)"
   ]
  },
  {
   "cell_type": "code",
   "execution_count": 18,
   "id": "8c36f1f7",
   "metadata": {},
   "outputs": [
    {
     "data": {
      "text/html": [
       "<div>\n",
       "<style scoped>\n",
       "    .dataframe tbody tr th:only-of-type {\n",
       "        vertical-align: middle;\n",
       "    }\n",
       "\n",
       "    .dataframe tbody tr th {\n",
       "        vertical-align: top;\n",
       "    }\n",
       "\n",
       "    .dataframe thead th {\n",
       "        text-align: right;\n",
       "    }\n",
       "</style>\n",
       "<table border=\"1\" class=\"dataframe\">\n",
       "  <thead>\n",
       "    <tr style=\"text-align: right;\">\n",
       "      <th></th>\n",
       "      <th>Headings</th>\n",
       "      <th>Text</th>\n",
       "    </tr>\n",
       "  </thead>\n",
       "  <tbody>\n",
       "    <tr>\n",
       "      <th>0</th>\n",
       "      <td>16 Best Tips To Maintain a Healthy Work-Life B...</td>\n",
       "      <td>[Today, quality of work-life balance is one of...</td>\n",
       "    </tr>\n",
       "    <tr>\n",
       "      <th>1</th>\n",
       "      <td>How to have a good work-life balance (hint: it...</td>\n",
       "      <td>[Products Build leaders that accelerate team p...</td>\n",
       "    </tr>\n",
       "    <tr>\n",
       "      <th>2</th>\n",
       "      <td>How to Improve Your Work-Life Balance TodayBal...</td>\n",
       "      <td>[Often, work takes precedence over everything ...</td>\n",
       "    </tr>\n",
       "    <tr>\n",
       "      <th>3</th>\n",
       "      <td>6 Tips For Better Work-Life Balance</td>\n",
       "      <td>[This article is part of a series on work-life...</td>\n",
       "    </tr>\n",
       "    <tr>\n",
       "      <th>4</th>\n",
       "      <td>12 Steps to Finding Your Ideal Work-Life Balan...</td>\n",
       "      <td>[Thanks to remote work, super-smart tech, and ...</td>\n",
       "    </tr>\n",
       "    <tr>\n",
       "      <th>5</th>\n",
       "      <td>\\n\\t\\t\\t\\t\\t\\t\\t\\t15 tips to create a healthy ...</td>\n",
       "      <td>[This is having devastating consequences on ou...</td>\n",
       "    </tr>\n",
       "    <tr>\n",
       "      <th>6</th>\n",
       "      <td>The Importance of Work-Life BalanceWork-Life B...</td>\n",
       "      <td>[Work-life balance has been in the news a lot ...</td>\n",
       "    </tr>\n",
       "    <tr>\n",
       "      <th>7</th>\n",
       "      <td>25 Best Ways To Achieve Work-Life Balance and ...</td>\n",
       "      <td>[  Vantage Rewards   Vantage Pulse   Vantage P...</td>\n",
       "    </tr>\n",
       "    <tr>\n",
       "      <th>8</th>\n",
       "      <td>\\nWork-life balance\\n\\nHeader menu Header menu...</td>\n",
       "      <td>[A healthy work-life balance will mean differe...</td>\n",
       "    </tr>\n",
       "    <tr>\n",
       "      <th>9</th>\n",
       "      <td>Try these 12 tips to improve your work-life ba...</td>\n",
       "      <td>[Products Build leaders that accelerate team p...</td>\n",
       "    </tr>\n",
       "    <tr>\n",
       "      <th>10</th>\n",
       "      <td>Work Life BalanceTop Left Menu MHA Topbar Menu...</td>\n",
       "      <td>[With so many of us torn between juggling heav...</td>\n",
       "    </tr>\n",
       "    <tr>\n",
       "      <th>11</th>\n",
       "      <td>Work-Life Balance: What It Is and 5 Ways to Im...</td>\n",
       "      <td>[Learn more about balancing your work life and...</td>\n",
       "    </tr>\n",
       "    <tr>\n",
       "      <th>12</th>\n",
       "      <td>Ten tips for a better work-life balance1. Step...</td>\n",
       "      <td>[If you’re happy working every hour God sends,...</td>\n",
       "    </tr>\n",
       "    <tr>\n",
       "      <th>13</th>\n",
       "      <td>6 Easy Ways to Improve Your Work-Life BalanceR...</td>\n",
       "      <td>[We provide free services to help job seekers ...</td>\n",
       "    </tr>\n",
       "    <tr>\n",
       "      <th>14</th>\n",
       "      <td>Healthdirect Free Australian health advice you...</td>\n",
       "      <td>[Medical problem.,  Call 1800 022 222.,  If yo...</td>\n",
       "    </tr>\n",
       "    <tr>\n",
       "      <th>15</th>\n",
       "      <td>403 Forbidden</td>\n",
       "      <td>[]</td>\n",
       "    </tr>\n",
       "    <tr>\n",
       "      <th>16</th>\n",
       "      <td>\\n\\n            www.upwork.com\\n        \\n    ...</td>\n",
       "      <td>[]</td>\n",
       "    </tr>\n",
       "    <tr>\n",
       "      <th>17</th>\n",
       "      <td>403 Forbidden</td>\n",
       "      <td>[]</td>\n",
       "    </tr>\n",
       "    <tr>\n",
       "      <th>18</th>\n",
       "      <td>Access denied</td>\n",
       "      <td>[You do not have access to www., indeed., com....</td>\n",
       "    </tr>\n",
       "    <tr>\n",
       "      <th>19</th>\n",
       "      <td>37 Tips for a Better Work-Life BalanceManaging...</td>\n",
       "      <td>[It's so secret—managing all the things you ha...</td>\n",
       "    </tr>\n",
       "  </tbody>\n",
       "</table>\n",
       "</div>"
      ],
      "text/plain": [
       "                                             Headings  \\\n",
       "0   16 Best Tips To Maintain a Healthy Work-Life B...   \n",
       "1   How to have a good work-life balance (hint: it...   \n",
       "2   How to Improve Your Work-Life Balance TodayBal...   \n",
       "3                 6 Tips For Better Work-Life Balance   \n",
       "4   12 Steps to Finding Your Ideal Work-Life Balan...   \n",
       "5   \\n\\t\\t\\t\\t\\t\\t\\t\\t15 tips to create a healthy ...   \n",
       "6   The Importance of Work-Life BalanceWork-Life B...   \n",
       "7   25 Best Ways To Achieve Work-Life Balance and ...   \n",
       "8   \\nWork-life balance\\n\\nHeader menu Header menu...   \n",
       "9   Try these 12 tips to improve your work-life ba...   \n",
       "10  Work Life BalanceTop Left Menu MHA Topbar Menu...   \n",
       "11  Work-Life Balance: What It Is and 5 Ways to Im...   \n",
       "12  Ten tips for a better work-life balance1. Step...   \n",
       "13  6 Easy Ways to Improve Your Work-Life BalanceR...   \n",
       "14  Healthdirect Free Australian health advice you...   \n",
       "15                                      403 Forbidden   \n",
       "16  \\n\\n            www.upwork.com\\n        \\n    ...   \n",
       "17                                      403 Forbidden   \n",
       "18                                      Access denied   \n",
       "19  37 Tips for a Better Work-Life BalanceManaging...   \n",
       "\n",
       "                                                 Text  \n",
       "0   [Today, quality of work-life balance is one of...  \n",
       "1   [Products Build leaders that accelerate team p...  \n",
       "2   [Often, work takes precedence over everything ...  \n",
       "3   [This article is part of a series on work-life...  \n",
       "4   [Thanks to remote work, super-smart tech, and ...  \n",
       "5   [This is having devastating consequences on ou...  \n",
       "6   [Work-life balance has been in the news a lot ...  \n",
       "7   [  Vantage Rewards   Vantage Pulse   Vantage P...  \n",
       "8   [A healthy work-life balance will mean differe...  \n",
       "9   [Products Build leaders that accelerate team p...  \n",
       "10  [With so many of us torn between juggling heav...  \n",
       "11  [Learn more about balancing your work life and...  \n",
       "12  [If you’re happy working every hour God sends,...  \n",
       "13  [We provide free services to help job seekers ...  \n",
       "14  [Medical problem.,  Call 1800 022 222.,  If yo...  \n",
       "15                                                 []  \n",
       "16                                                 []  \n",
       "17                                                 []  \n",
       "18  [You do not have access to www., indeed., com....  \n",
       "19  [It's so secret—managing all the things you ha...  "
      ]
     },
     "execution_count": 18,
     "metadata": {},
     "output_type": "execute_result"
    }
   ],
   "source": [
    "df"
   ]
  },
  {
   "cell_type": "code",
   "execution_count": 21,
   "id": "aa68821a",
   "metadata": {},
   "outputs": [
    {
     "data": {
      "text/plain": [
       "\"16 Best Tips To Maintain a Healthy Work-Life Balance1. 'Me' time 2. Get social 3. Learn to prioritize 4. Talk to your boss 5. Stay organized 6. Healthy eating habits 7. Workout 8.   Take vacations 9.   Take small breaks 10. Learn to say 'No' 11. Digital Detox 12. Proper sleep 13. Meditate 14. Do not compare 15. Find work that suits your needs 16. Set realistic expectations People Also viewed 👀 What Is Career Planning & How to Do It 6 Interview Mistakes to Avoid in 2023 Tips to Rejoining the Workforce in 2023 7 Promising Career Options to Pursue in 2023 6 Ways to Find Your First Job in 2023 6 Trending Courses to Sign Up for in 2023\""
      ]
     },
     "execution_count": 21,
     "metadata": {},
     "output_type": "execute_result"
    }
   ],
   "source": [
    "df['Headings'][0]"
   ]
  },
  {
   "cell_type": "code",
   "execution_count": 31,
   "id": "a5fd5165",
   "metadata": {},
   "outputs": [
    {
     "name": "stderr",
     "output_type": "stream",
     "text": [
      "No model was supplied, defaulted to sshleifer/distilbart-cnn-12-6 and revision a4f8f3e (https://huggingface.co/sshleifer/distilbart-cnn-12-6).\n",
      "Using a pipeline without specifying a model name and revision in production is not recommended.\n"
     ]
    },
    {
     "ename": "RuntimeError",
     "evalue": "At least one of TensorFlow 2.0 or PyTorch should be installed. To install TensorFlow 2.0, read the instructions at https://www.tensorflow.org/install/ To install PyTorch, read the instructions at https://pytorch.org/.",
     "output_type": "error",
     "traceback": [
      "\u001b[0;31m---------------------------------------------------------------------------\u001b[0m",
      "\u001b[0;31mRuntimeError\u001b[0m                              Traceback (most recent call last)",
      "Cell \u001b[0;32mIn[31], line 1\u001b[0m\n\u001b[0;32m----> 1\u001b[0m summarizer \u001b[39m=\u001b[39m pipeline(\u001b[39m'\u001b[39;49m\u001b[39msummarization\u001b[39;49m\u001b[39m'\u001b[39;49m)\n",
      "File \u001b[0;32m~/.local/lib/python3.10/site-packages/transformers/pipelines/__init__.py:724\u001b[0m, in \u001b[0;36mpipeline\u001b[0;34m(task, model, config, tokenizer, feature_extractor, framework, revision, use_fast, use_auth_token, device, device_map, torch_dtype, trust_remote_code, model_kwargs, pipeline_class, **kwargs)\u001b[0m\n\u001b[1;32m    720\u001b[0m \u001b[39m# Infer the framework from the model\u001b[39;00m\n\u001b[1;32m    721\u001b[0m \u001b[39m# Forced if framework already defined, inferred if it's None\u001b[39;00m\n\u001b[1;32m    722\u001b[0m \u001b[39m# Will load the correct model if possible\u001b[39;00m\n\u001b[1;32m    723\u001b[0m model_classes \u001b[39m=\u001b[39m {\u001b[39m\"\u001b[39m\u001b[39mtf\u001b[39m\u001b[39m\"\u001b[39m: targeted_task[\u001b[39m\"\u001b[39m\u001b[39mtf\u001b[39m\u001b[39m\"\u001b[39m], \u001b[39m\"\u001b[39m\u001b[39mpt\u001b[39m\u001b[39m\"\u001b[39m: targeted_task[\u001b[39m\"\u001b[39m\u001b[39mpt\u001b[39m\u001b[39m\"\u001b[39m]}\n\u001b[0;32m--> 724\u001b[0m framework, model \u001b[39m=\u001b[39m infer_framework_load_model(\n\u001b[1;32m    725\u001b[0m     model,\n\u001b[1;32m    726\u001b[0m     model_classes\u001b[39m=\u001b[39;49mmodel_classes,\n\u001b[1;32m    727\u001b[0m     config\u001b[39m=\u001b[39;49mconfig,\n\u001b[1;32m    728\u001b[0m     framework\u001b[39m=\u001b[39;49mframework,\n\u001b[1;32m    729\u001b[0m     task\u001b[39m=\u001b[39;49mtask,\n\u001b[1;32m    730\u001b[0m     \u001b[39m*\u001b[39;49m\u001b[39m*\u001b[39;49mhub_kwargs,\n\u001b[1;32m    731\u001b[0m     \u001b[39m*\u001b[39;49m\u001b[39m*\u001b[39;49mmodel_kwargs,\n\u001b[1;32m    732\u001b[0m )\n\u001b[1;32m    734\u001b[0m model_config \u001b[39m=\u001b[39m model\u001b[39m.\u001b[39mconfig\n\u001b[1;32m    735\u001b[0m hub_kwargs[\u001b[39m\"\u001b[39m\u001b[39m_commit_hash\u001b[39m\u001b[39m\"\u001b[39m] \u001b[39m=\u001b[39m model\u001b[39m.\u001b[39mconfig\u001b[39m.\u001b[39m_commit_hash\n",
      "File \u001b[0;32m~/.local/lib/python3.10/site-packages/transformers/pipelines/base.py:209\u001b[0m, in \u001b[0;36minfer_framework_load_model\u001b[0;34m(model, config, model_classes, task, framework, **model_kwargs)\u001b[0m\n\u001b[1;32m    183\u001b[0m \u001b[39m\"\"\"\u001b[39;00m\n\u001b[1;32m    184\u001b[0m \u001b[39mSelect framework (TensorFlow or PyTorch) to use from the `model` passed. Returns a tuple (framework, model).\u001b[39;00m\n\u001b[1;32m    185\u001b[0m \n\u001b[0;32m   (...)\u001b[0m\n\u001b[1;32m    206\u001b[0m \u001b[39m    `Tuple`: A tuple framework, model.\u001b[39;00m\n\u001b[1;32m    207\u001b[0m \u001b[39m\"\"\"\u001b[39;00m\n\u001b[1;32m    208\u001b[0m \u001b[39mif\u001b[39;00m \u001b[39mnot\u001b[39;00m is_tf_available() \u001b[39mand\u001b[39;00m \u001b[39mnot\u001b[39;00m is_torch_available():\n\u001b[0;32m--> 209\u001b[0m     \u001b[39mraise\u001b[39;00m \u001b[39mRuntimeError\u001b[39;00m(\n\u001b[1;32m    210\u001b[0m         \u001b[39m\"\u001b[39m\u001b[39mAt least one of TensorFlow 2.0 or PyTorch should be installed. \u001b[39m\u001b[39m\"\u001b[39m\n\u001b[1;32m    211\u001b[0m         \u001b[39m\"\u001b[39m\u001b[39mTo install TensorFlow 2.0, read the instructions at https://www.tensorflow.org/install/ \u001b[39m\u001b[39m\"\u001b[39m\n\u001b[1;32m    212\u001b[0m         \u001b[39m\"\u001b[39m\u001b[39mTo install PyTorch, read the instructions at https://pytorch.org/.\u001b[39m\u001b[39m\"\u001b[39m\n\u001b[1;32m    213\u001b[0m     )\n\u001b[1;32m    214\u001b[0m \u001b[39mif\u001b[39;00m \u001b[39misinstance\u001b[39m(model, \u001b[39mstr\u001b[39m):\n\u001b[1;32m    215\u001b[0m     model_kwargs[\u001b[39m\"\u001b[39m\u001b[39m_from_pipeline\u001b[39m\u001b[39m\"\u001b[39m] \u001b[39m=\u001b[39m task\n",
      "\u001b[0;31mRuntimeError\u001b[0m: At least one of TensorFlow 2.0 or PyTorch should be installed. To install TensorFlow 2.0, read the instructions at https://www.tensorflow.org/install/ To install PyTorch, read the instructions at https://pytorch.org/."
     ]
    }
   ],
   "source": [
    "summarizer = pipeline('summarization')"
   ]
  },
  {
   "cell_type": "code",
   "execution_count": null,
   "id": "5b883b8d",
   "metadata": {},
   "outputs": [],
   "source": []
  }
 ],
 "metadata": {
  "kernelspec": {
   "display_name": "Python 3",
   "language": "python",
   "name": "python3"
  },
  "language_info": {
   "codemirror_mode": {
    "name": "ipython",
    "version": 3
   },
   "file_extension": ".py",
   "mimetype": "text/x-python",
   "name": "python",
   "nbconvert_exporter": "python",
   "pygments_lexer": "ipython3",
   "version": "3.10.6"
  },
  "vscode": {
   "interpreter": {
    "hash": "31f2aee4e71d21fbe5cf8b01ff0e069b9275f58929596ceb00d14d90e3e16cd6"
   }
  }
 },
 "nbformat": 4,
 "nbformat_minor": 5
}
