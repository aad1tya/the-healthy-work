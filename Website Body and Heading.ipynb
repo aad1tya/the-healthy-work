{
 "cells": [
  {
   "cell_type": "code",
   "execution_count": 20,
   "id": "a8731f3b",
   "metadata": {},
   "outputs": [],
   "source": [
    "import requests\n",
    "import urllib\n",
    "import pandas as pd\n",
    "from requests_html import HTML\n",
    "from requests_html import HTMLSession\n",
    "from bs4 import BeautifulSoup"
   ]
  },
  {
   "cell_type": "code",
   "execution_count": 5,
   "id": "69a571b9",
   "metadata": {},
   "outputs": [],
   "source": [
    "def get_source(url):\n",
    "    \"\"\"Return the source code of the provided url.\n",
    "    \n",
    "    Args: \n",
    "        url (string): URL of the page to scrape.\n",
    "        \n",
    "    Returns:\n",
    "        response (object): HTTP response object from requests_html\n",
    "    \"\"\"  \n",
    "    \n",
    "    try:\n",
    "        session = HTMLSession()\n",
    "        response = session.get(url)\n",
    "        return response\n",
    "    \n",
    "    except requests.exceptions.RequestException as e:\n",
    "        print(e)"
   ]
  },
  {
   "cell_type": "code",
   "execution_count": 9,
   "id": "ae250d6f",
   "metadata": {},
   "outputs": [],
   "source": [
    "def scrape_google(query):\n",
    "    \n",
    "    query = urllib.parse.quote_plus(query)\n",
    "    response = get_source(\"https://www.google.com/search?q=\" + query)\n",
    "    response1 = get_source(\"https://www.google.com/search?q=\" + query + '&start=10')\n",
    "    \n",
    "    links = list(response.html.absolute_links)\n",
    "    links += list(response1.html.absolute_links)\n",
    "    google_domains = ('https://www.google.',\n",
    "                      'https://google.', \n",
    "                      'https://webcache.googleusercontent.', \n",
    "                      'http://webcache.googleusercontent.', \n",
    "                      'https://policies.google.',\n",
    "                      'https://support.google.',\n",
    "                      'https://maps.google.')\n",
    "    \n",
    "    for url in links[:]:\n",
    "        if url.startswith(google_domains):\n",
    "            links.remove(url)\n",
    "    \n",
    "    return links"
   ]
  },
  {
   "cell_type": "code",
   "execution_count": 60,
   "id": "4a75bcbe",
   "metadata": {},
   "outputs": [],
   "source": [
    "url = \"https://www.betterup.com/blog/work-life-balance\""
   ]
  },
  {
   "cell_type": "code",
   "execution_count": null,
   "id": "bc829b27",
   "metadata": {},
   "outputs": [],
   "source": [
    "r1 = requests.get(url)"
   ]
  }
 ],
 "metadata": {
  "kernelspec": {
   "display_name": "Python 3 (ipykernel)",
   "language": "python",
   "name": "python3"
  },
  "language_info": {
   "codemirror_mode": {
    "name": "ipython",
    "version": 3
   },
   "file_extension": ".py",
   "mimetype": "text/x-python",
   "name": "python",
   "nbconvert_exporter": "python",
   "pygments_lexer": "ipython3",
   "version": "3.11.0"
  }
 },
 "nbformat": 4,
 "nbformat_minor": 5
}
